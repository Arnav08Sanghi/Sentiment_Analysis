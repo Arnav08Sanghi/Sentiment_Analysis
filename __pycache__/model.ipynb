{
 "cells": [
  {
   "cell_type": "code",
   "execution_count": 2,
   "id": "20e75e46",
   "metadata": {},
   "outputs": [
    {
     "name": "stdout",
     "output_type": "stream",
     "text": [
      "kernal running\n"
     ]
    }
   ],
   "source": [
    "print(\"kernal running\")"
   ]
  },
  {
   "cell_type": "code",
   "execution_count": 5,
   "id": "5c05eef4",
   "metadata": {},
   "outputs": [
    {
     "name": "stdout",
     "output_type": "stream",
     "text": [
      "All imports successful!\n",
      "Numpy array: [1 2 3]\n",
      "Pandas DataFrame:\n",
      "    col1  col2\n",
      "0    10    30\n",
      "1    20    40\n",
      "CountVectorizer feature names: ['hello' 'world']\n",
      "CountVectorizer array:\n",
      " [[1 1]\n",
      " [1 0]]\n",
      "Joblib loaded array: [1 2 3]\n",
      "First 10 English stopwords: ['a', 'about', 'above', 'after', 'again', 'against', 'ain', 'all', 'am', 'an']\n"
     ]
    }
   ],
   "source": [
    "# test_imports.ipynb\n",
    "\n",
    "# Cell 1: Import libraries\n",
    "import numpy as np\n",
    "import pandas as pd\n",
    "from sklearn.feature_extraction.text import CountVectorizer\n",
    "import joblib\n",
    "import nltk\n",
    "\n",
    "print(\"All imports successful!\")\n",
    "\n",
    "# Cell 2: Quick numpy test\n",
    "arr = np.array([1, 2, 3])\n",
    "print(\"Numpy array:\", arr)\n",
    "\n",
    "# Cell 3: Quick pandas test\n",
    "df = pd.DataFrame({'col1': [10, 20], 'col2': [30, 40]})\n",
    "print(\"Pandas DataFrame:\\n\", df)\n",
    "\n",
    "# Cell 4: Quick sklearn CountVectorizer test\n",
    "texts = [\"hello world\", \"hello\"]\n",
    "vectorizer = CountVectorizer()\n",
    "X = vectorizer.fit_transform(texts)\n",
    "print(\"CountVectorizer feature names:\", vectorizer.get_feature_names_out())\n",
    "print(\"CountVectorizer array:\\n\", X.toarray())\n",
    "\n",
    "# Cell 5: Quick joblib test - save and load a simple object\n",
    "joblib.dump(arr, 'test_array.pkl')\n",
    "loaded_arr = joblib.load('test_array.pkl')\n",
    "print(\"Joblib loaded array:\", loaded_arr)\n",
    "\n",
    "# Cell 6: Quick nltk test - download and use stopwords\n",
    "nltk.download('stopwords', quiet=True)\n",
    "from nltk.corpus import stopwords\n",
    "stop_words = stopwords.words('english')\n",
    "print(\"First 10 English stopwords:\", stop_words[:10])\n"
   ]
  },
  {
   "cell_type": "code",
   "execution_count": null,
   "id": "b682980e",
   "metadata": {},
   "outputs": [],
   "source": [
    "from tokenization import make_numerical_vector\n",
    "\n",
    "X_train, X_test, Y_train, Y_test"
   ]
  }
 ],
 "metadata": {
  "kernelspec": {
   "display_name": "Python 3",
   "language": "python",
   "name": "python3"
  },
  "language_info": {
   "codemirror_mode": {
    "name": "ipython",
    "version": 3
   },
   "file_extension": ".py",
   "mimetype": "text/x-python",
   "name": "python",
   "nbconvert_exporter": "python",
   "pygments_lexer": "ipython3",
   "version": "3.13.3"
  }
 },
 "nbformat": 4,
 "nbformat_minor": 5
}
