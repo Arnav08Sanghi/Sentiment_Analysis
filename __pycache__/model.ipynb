{
 "cells": [
  {
   "cell_type": "code",
   "execution_count": null,
   "id": "20e75e46",
   "metadata": {
    "vscode": {
     "languageId": "plaintext"
    }
   },
   "outputs": [],
   "source": [
    "from load_data import loading_data\n",
    "\n",
    "X_raw, Y = load_data(\"C:\\\\Users\\\\arnav\\\\OneDrive\\\\Desktop\\\\Coding Projects\\\\AI_PROJ_ONE\\\\IMDB_Dataset.csv\")"
   ]
  }
 ],
 "metadata": {
  "language_info": {
   "name": "python"
  }
 },
 "nbformat": 4,
 "nbformat_minor": 5
}
